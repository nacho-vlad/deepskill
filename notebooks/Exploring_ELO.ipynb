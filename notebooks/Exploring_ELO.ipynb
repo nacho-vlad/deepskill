{
 "cells": [
  {
   "cell_type": "code",
   "execution_count": 17,
   "id": "0bb3afd8",
   "metadata": {},
   "outputs": [
    {
     "data": {
      "text/plain": [
       "'/home/florinacho/deepskill/notebooks'"
      ]
     },
     "execution_count": 17,
     "metadata": {},
     "output_type": "execute_result"
    }
   ],
   "source": [
    "import os\n",
    "os.getcwd()"
   ]
  },
  {
   "cell_type": "code",
   "execution_count": 18,
   "id": "0a6d1e96",
   "metadata": {},
   "outputs": [
    {
     "name": "stdout",
     "output_type": "stream",
     "text": [
      "<class 'pandas.core.frame.DataFrame'>\n",
      "RangeIndex: 20175 entries, 0 to 20174\n",
      "Data columns (total 13 columns):\n",
      " #   Column           Non-Null Count  Dtype  \n",
      "---  ------           --------------  -----  \n",
      " 0   Event            20175 non-null  object \n",
      " 1   White            20175 non-null  object \n",
      " 2   Black            20175 non-null  object \n",
      " 3   Result           20175 non-null  object \n",
      " 4   BlackElo         20175 non-null  object \n",
      " 5   WhiteElo         20175 non-null  object \n",
      " 6   BlackRatingDiff  20122 non-null  float64\n",
      " 7   WhiteRatingDiff  20122 non-null  float64\n",
      " 8   Opening          20175 non-null  object \n",
      " 9   Termination      20175 non-null  object \n",
      " 10  TimeControl      20175 non-null  object \n",
      " 11  UTCDate          20175 non-null  object \n",
      " 12  UTCTime          20175 non-null  object \n",
      "dtypes: float64(2), object(11)\n",
      "memory usage: 2.0+ MB\n"
     ]
    }
   ],
   "source": [
    "import pandas\n",
    "\n",
    "df = pandas.read_csv(\"../data/processed/lichess_db_standard_rated_2013-06.csv\")\n",
    "\n",
    "df.info()"
   ]
  },
  {
   "cell_type": "code",
   "execution_count": 19,
   "id": "46ee1d31",
   "metadata": {
    "scrolled": true
   },
   "outputs": [
    {
     "name": "stdout",
     "output_type": "stream",
     "text": [
      "<class 'pandas.core.frame.DataFrame'>\n",
      "Int64Index: 20122 entries, 0 to 20174\n",
      "Data columns (total 13 columns):\n",
      " #   Column           Non-Null Count  Dtype  \n",
      "---  ------           --------------  -----  \n",
      " 0   Event            20122 non-null  object \n",
      " 1   White            20122 non-null  object \n",
      " 2   Black            20122 non-null  object \n",
      " 3   Result           20122 non-null  object \n",
      " 4   BlackElo         20122 non-null  int64  \n",
      " 5   WhiteElo         20122 non-null  int64  \n",
      " 6   BlackRatingDiff  20122 non-null  float64\n",
      " 7   WhiteRatingDiff  20122 non-null  float64\n",
      " 8   Opening          20122 non-null  object \n",
      " 9   Termination      20122 non-null  object \n",
      " 10  TimeControl      20122 non-null  object \n",
      " 11  UTCDate          20122 non-null  object \n",
      " 12  UTCTime          20122 non-null  object \n",
      "dtypes: float64(2), int64(2), object(9)\n",
      "memory usage: 2.1+ MB\n"
     ]
    }
   ],
   "source": [
    "df = df[df[\"BlackElo\"] != \"?\"]\n",
    "df = df[df[\"WhiteElo\"] != \"?\"]\n",
    "\n",
    "df[\"BlackElo\"] = df[\"BlackElo\"].astype('int')\n",
    "df[\"WhiteElo\"] = df[\"WhiteElo\"].astype('int')\n",
    "\n",
    "df.info()"
   ]
  },
  {
   "cell_type": "code",
   "execution_count": 20,
   "id": "bfdcd562",
   "metadata": {},
   "outputs": [
    {
     "name": "stdout",
     "output_type": "stream",
     "text": [
      "<class 'pandas.core.frame.DataFrame'>\n",
      "Int64Index: 10318 entries, 0 to 20173\n",
      "Data columns (total 13 columns):\n",
      " #   Column           Non-Null Count  Dtype  \n",
      "---  ------           --------------  -----  \n",
      " 0   Event            10318 non-null  object \n",
      " 1   White            10318 non-null  object \n",
      " 2   Black            10318 non-null  object \n",
      " 3   Result           10318 non-null  object \n",
      " 4   BlackElo         10318 non-null  int64  \n",
      " 5   WhiteElo         10318 non-null  int64  \n",
      " 6   BlackRatingDiff  10318 non-null  float64\n",
      " 7   WhiteRatingDiff  10318 non-null  float64\n",
      " 8   Opening          10318 non-null  object \n",
      " 9   Termination      10318 non-null  object \n",
      " 10  TimeControl      10318 non-null  object \n",
      " 11  UTCDate          10318 non-null  object \n",
      " 12  UTCTime          10318 non-null  object \n",
      "dtypes: float64(2), int64(2), object(9)\n",
      "memory usage: 1.1+ MB\n"
     ]
    }
   ],
   "source": [
    "white_wins = df[df[\"Result\"] == \"1-0\"]\n",
    "draws = df[df[\"Result\"] == \"1/2-1/2\"]\n",
    "black_wins = df[df[\"Result\"] == \"0-1\"]\n",
    "\n",
    "white_wins.info()"
   ]
  },
  {
   "cell_type": "code",
   "execution_count": 21,
   "id": "70ddfddb",
   "metadata": {},
   "outputs": [
    {
     "data": {
      "text/plain": [
       "0.6741616592362861"
      ]
     },
     "execution_count": 21,
     "metadata": {},
     "output_type": "execute_result"
    }
   ],
   "source": [
    "white_should_win = white_wins[white_wins[\"WhiteElo\"] > white_wins[\"BlackElo\"]]\n",
    "\n",
    "len(white_should_win) / len(white_wins)"
   ]
  },
  {
   "cell_type": "code",
   "execution_count": 22,
   "id": "b6740ba9",
   "metadata": {},
   "outputs": [
    {
     "data": {
      "text/plain": [
       "0.6443911479341545"
      ]
     },
     "execution_count": 22,
     "metadata": {},
     "output_type": "execute_result"
    }
   ],
   "source": [
    "black_should_win = black_wins[black_wins[\"WhiteElo\"] < black_wins[\"BlackElo\"]]\n",
    "\n",
    "len(black_should_win) / len(black_wins)"
   ]
  },
  {
   "cell_type": "code",
   "execution_count": 23,
   "id": "9f113a54",
   "metadata": {},
   "outputs": [
    {
     "name": "stdout",
     "output_type": "stream",
     "text": [
      "<class 'pandas.core.frame.DataFrame'>\n",
      "Int64Index: 20122 entries, 0 to 20174\n",
      "Data columns (total 15 columns):\n",
      " #   Column           Non-Null Count  Dtype  \n",
      "---  ------           --------------  -----  \n",
      " 0   Event            20122 non-null  object \n",
      " 1   White            20122 non-null  object \n",
      " 2   Black            20122 non-null  object \n",
      " 3   Result           20122 non-null  object \n",
      " 4   BlackElo         20122 non-null  int64  \n",
      " 5   WhiteElo         20122 non-null  int64  \n",
      " 6   BlackRatingDiff  20122 non-null  float64\n",
      " 7   WhiteRatingDiff  20122 non-null  float64\n",
      " 8   Opening          20122 non-null  object \n",
      " 9   Termination      20122 non-null  object \n",
      " 10  TimeControl      20122 non-null  object \n",
      " 11  UTCDate          20122 non-null  object \n",
      " 12  UTCTime          20122 non-null  object \n",
      " 13  EloDiff          20122 non-null  int64  \n",
      " 14  ShouldWin        20122 non-null  int64  \n",
      "dtypes: float64(2), int64(4), object(9)\n",
      "memory usage: 2.5+ MB\n"
     ]
    }
   ],
   "source": [
    "df[\"EloDiff\"] = df[\"WhiteElo\"] - df[\"BlackElo\"]\n",
    "df[\"ShouldWin\"] = 0\n",
    "df.loc[(df[\"EloDiff\"] > 0) & (df[\"Result\"] == \"1-0\"), \"ShouldWin\"] = 1\n",
    "df.loc[(df[\"EloDiff\"] < 0) & (df[\"Result\"] == \"0-1\"),\"ShouldWin\"] = 1\n",
    "\n",
    "df.info()"
   ]
  },
  {
   "cell_type": "code",
   "execution_count": 24,
   "id": "bc1f0f85",
   "metadata": {},
   "outputs": [
    {
     "name": "stdout",
     "output_type": "stream",
     "text": [
      "<class 'pandas.core.frame.DataFrame'>\n",
      "Int64Index: 20122 entries, 0 to 20174\n",
      "Data columns (total 15 columns):\n",
      " #   Column           Non-Null Count  Dtype  \n",
      "---  ------           --------------  -----  \n",
      " 0   Event            20122 non-null  object \n",
      " 1   White            20122 non-null  object \n",
      " 2   Black            20122 non-null  object \n",
      " 3   Result           20122 non-null  object \n",
      " 4   BlackElo         20122 non-null  int64  \n",
      " 5   WhiteElo         20122 non-null  int64  \n",
      " 6   BlackRatingDiff  20122 non-null  float64\n",
      " 7   WhiteRatingDiff  20122 non-null  float64\n",
      " 8   Opening          20122 non-null  object \n",
      " 9   Termination      20122 non-null  object \n",
      " 10  TimeControl      20122 non-null  object \n",
      " 11  UTCDate          20122 non-null  object \n",
      " 12  UTCTime          20122 non-null  object \n",
      " 13  EloDiff          20122 non-null  int64  \n",
      " 14  ShouldWin        20122 non-null  int64  \n",
      "dtypes: float64(2), int64(4), object(9)\n",
      "memory usage: 2.5+ MB\n"
     ]
    }
   ],
   "source": [
    "df[\"EloDiff\"] = df[\"EloDiff\"].apply(abs)\n",
    "\n",
    "df.info()"
   ]
  },
  {
   "cell_type": "code",
   "execution_count": 41,
   "id": "1f8d469e",
   "metadata": {},
   "outputs": [
    {
     "name": "stdout",
     "output_type": "stream",
     "text": [
      "<class 'pandas.core.frame.DataFrame'>\n",
      "Int64Index: 20122 entries, 0 to 20174\n",
      "Data columns (total 2 columns):\n",
      " #   Column     Non-Null Count  Dtype\n",
      "---  ------     --------------  -----\n",
      " 0   EloDiff    20122 non-null  int64\n",
      " 1   ShouldWin  20122 non-null  int64\n",
      "dtypes: int64(2)\n",
      "memory usage: 987.6 KB\n"
     ]
    }
   ],
   "source": [
    "elo_diff = df[[\"EloDiff\", \"ShouldWin\"]]\n",
    "elo_diff.info()"
   ]
  },
  {
   "cell_type": "code",
   "execution_count": 42,
   "id": "180e9c2f",
   "metadata": {},
   "outputs": [
    {
     "name": "stderr",
     "output_type": "stream",
     "text": [
      "/tmp/ipykernel_2471/1805587353.py:3: SettingWithCopyWarning: \n",
      "A value is trying to be set on a copy of a slice from a DataFrame.\n",
      "Try using .loc[row_indexer,col_indexer] = value instead\n",
      "\n",
      "See the caveats in the documentation: https://pandas.pydata.org/pandas-docs/stable/user_guide/indexing.html#returning-a-view-versus-a-copy\n",
      "  elo_diff[\"Bin\"] = pd.cut(elo_diff[\"EloDiff\"], [i for i in range(0, 800,5)])\n"
     ]
    }
   ],
   "source": [
    "import pandas as pd\n",
    "\n",
    "elo_diff[\"Bin\"] = pd.cut(elo_diff[\"EloDiff\"], [i for i in range(0, 800,5)])\n",
    "\n",
    "elo_diff = elo_diff[[\"ShouldWin\", \"Bin\"]]"
   ]
  },
  {
   "cell_type": "code",
   "execution_count": 43,
   "id": "1e4d14e2",
   "metadata": {},
   "outputs": [
    {
     "data": {
      "text/html": [
       "<div>\n",
       "<style scoped>\n",
       "    .dataframe tbody tr th:only-of-type {\n",
       "        vertical-align: middle;\n",
       "    }\n",
       "\n",
       "    .dataframe tbody tr th {\n",
       "        vertical-align: top;\n",
       "    }\n",
       "\n",
       "    .dataframe thead th {\n",
       "        text-align: right;\n",
       "    }\n",
       "</style>\n",
       "<table border=\"1\" class=\"dataframe\">\n",
       "  <thead>\n",
       "    <tr style=\"text-align: right;\">\n",
       "      <th></th>\n",
       "      <th>ShouldWin</th>\n",
       "    </tr>\n",
       "    <tr>\n",
       "      <th>Bin</th>\n",
       "      <th></th>\n",
       "    </tr>\n",
       "  </thead>\n",
       "  <tbody>\n",
       "    <tr>\n",
       "      <th>(0, 5]</th>\n",
       "      <td>0.514286</td>\n",
       "    </tr>\n",
       "    <tr>\n",
       "      <th>(5, 10]</th>\n",
       "      <td>0.511340</td>\n",
       "    </tr>\n",
       "    <tr>\n",
       "      <th>(10, 15]</th>\n",
       "      <td>0.506148</td>\n",
       "    </tr>\n",
       "    <tr>\n",
       "      <th>(15, 20]</th>\n",
       "      <td>0.488613</td>\n",
       "    </tr>\n",
       "    <tr>\n",
       "      <th>(20, 25]</th>\n",
       "      <td>0.505519</td>\n",
       "    </tr>\n",
       "    <tr>\n",
       "      <th>...</th>\n",
       "      <td>...</td>\n",
       "    </tr>\n",
       "    <tr>\n",
       "      <th>(770, 775]</th>\n",
       "      <td>1.000000</td>\n",
       "    </tr>\n",
       "    <tr>\n",
       "      <th>(775, 780]</th>\n",
       "      <td>1.000000</td>\n",
       "    </tr>\n",
       "    <tr>\n",
       "      <th>(780, 785]</th>\n",
       "      <td>NaN</td>\n",
       "    </tr>\n",
       "    <tr>\n",
       "      <th>(785, 790]</th>\n",
       "      <td>1.000000</td>\n",
       "    </tr>\n",
       "    <tr>\n",
       "      <th>(790, 795]</th>\n",
       "      <td>1.000000</td>\n",
       "    </tr>\n",
       "  </tbody>\n",
       "</table>\n",
       "<p>159 rows × 1 columns</p>\n",
       "</div>"
      ],
      "text/plain": [
       "            ShouldWin\n",
       "Bin                  \n",
       "(0, 5]       0.514286\n",
       "(5, 10]      0.511340\n",
       "(10, 15]     0.506148\n",
       "(15, 20]     0.488613\n",
       "(20, 25]     0.505519\n",
       "...               ...\n",
       "(770, 775]   1.000000\n",
       "(775, 780]   1.000000\n",
       "(780, 785]        NaN\n",
       "(785, 790]   1.000000\n",
       "(790, 795]   1.000000\n",
       "\n",
       "[159 rows x 1 columns]"
      ]
     },
     "execution_count": 43,
     "metadata": {},
     "output_type": "execute_result"
    }
   ],
   "source": [
    "elo_diff = elo_diff.groupby(by=\"Bin\").mean()\n",
    "\n",
    "elo_diff"
   ]
  },
  {
   "cell_type": "code",
   "execution_count": 44,
   "id": "f36f1b6f",
   "metadata": {},
   "outputs": [
    {
     "data": {
      "image/png": "[encoded data removed]",
      "text/plain": [
       "<Figure size 640x480 with 1 Axes>"
      ]
     },
     "metadata": {},
     "output_type": "display_data"
    }
   ],
   "source": [
    "import matplotlib.pyplot as plt\n",
    "\n",
    "elo_diff.plot(y=\"ShouldWin\")\n",
    "\n",
    "plt.show()"
   ]
  },
  {
   "cell_type": "code",
   "execution_count": 29,
   "id": "ab2dfcc5",
   "metadata": {},
   "outputs": [
    {
     "name": "stdout",
     "output_type": "stream",
     "text": [
      "<class 'pandas.core.frame.DataFrame'>\n",
      "Int64Index: 719 entries, 0 to 1157\n",
      "Data columns (total 1 columns):\n",
      " #   Column     Non-Null Count  Dtype  \n",
      "---  ------     --------------  -----  \n",
      " 0   ShouldWin  719 non-null    float64\n",
      "dtypes: float64(1)\n",
      "memory usage: 11.2 KB\n"
     ]
    }
   ],
   "source": [
    "elo_diff.info()"
   ]
  },
  {
   "cell_type": "code",
   "execution_count": null,
   "id": "46b178b6",
   "metadata": {},
   "outputs": [],
   "source": []
  }
 ],
 "metadata": {
  "kernelspec": {
   "display_name": "Python 3 (ipykernel)",
   "language": "python",
   "name": "python3"
  },
  "language_info": {
   "codemirror_mode": {
    "name": "ipython",
    "version": 3
   },
   "file_extension": ".py",
   "mimetype": "text/x-python",
   "name": "python",
   "nbconvert_exporter": "python",
   "pygments_lexer": "ipython3",
   "version": "3.10.8"
  }
 },
 "nbformat": 4,
 "nbformat_minor": 5
}
